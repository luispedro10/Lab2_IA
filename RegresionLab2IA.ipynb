{
 "cells": [
  {
   "cell_type": "code",
   "execution_count": 50,
   "id": "57c591e9",
   "metadata": {},
   "outputs": [],
   "source": [
    "import numpy as np\n",
    "import pandas as pd\n",
    "import matplotlib.pyplot as plt\n",
    "from sklearn.model_selection import train_test_split\n",
    "from sklearn.linear_model import LinearRegression\n",
    "from scipy.special import boxcox1p\n",
    "import seaborn as sns"
   ]
  },
  {
   "cell_type": "code",
   "execution_count": 51,
   "id": "b6ba013c",
   "metadata": {},
   "outputs": [],
   "source": [
    "#Leyendo datos\n",
    "df= pd.read_csv(\"C:/Users/LUISPEDRO/Desktop/Universidad Del Valle/Semestre 7/InteligenciaArtificial/Lab2/Walmart.csv\")\n",
    "#Ordenando datos por fecha\n",
    "datos = df.sort_values(by='Date')"
   ]
  },
  {
   "cell_type": "code",
   "execution_count": 52,
   "id": "e73899fd",
   "metadata": {},
   "outputs": [
    {
     "data": {
      "text/plain": [
       "<AxesSubplot:ylabel='Frequency'>"
      ]
     },
     "execution_count": 52,
     "metadata": {},
     "output_type": "execute_result"
    },
    {
     "data": {
      "image/png": "[encoded data removed]",
      "text/plain": [
       "<Figure size 432x288 with 1 Axes>"
      ]
     },
     "metadata": {
      "needs_background": "light"
     },
     "output_type": "display_data"
    }
   ],
   "source": [
    "#Analizando un poco los datos\n",
    "datos[\"Weekly_Sales\"].plot.hist()"
   ]
  },
  {
   "cell_type": "markdown",
   "id": "cff675c0",
   "metadata": {},
   "source": [
    "### TODAS LAS VARIABLES SON INDEPENDIENTES, A EXEPCIÓN DE WEEKLY_SALES"
   ]
  },
  {
   "cell_type": "code",
   "execution_count": 53,
   "id": "8c8d22a8",
   "metadata": {},
   "outputs": [
    {
     "data": {
      "text/html": [
       "<div>\n",
       "<style scoped>\n",
       "    .dataframe tbody tr th:only-of-type {\n",
       "        vertical-align: middle;\n",
       "    }\n",
       "\n",
       "    .dataframe tbody tr th {\n",
       "        vertical-align: top;\n",
       "    }\n",
       "\n",
       "    .dataframe thead th {\n",
       "        text-align: right;\n",
       "    }\n",
       "</style>\n",
       "<table border=\"1\" class=\"dataframe\">\n",
       "  <thead>\n",
       "    <tr style=\"text-align: right;\">\n",
       "      <th></th>\n",
       "      <th>Store</th>\n",
       "      <th>Date</th>\n",
       "      <th>Weekly_Sales</th>\n",
       "      <th>Holiday_Flag</th>\n",
       "      <th>Temperature</th>\n",
       "      <th>Fuel_Price</th>\n",
       "      <th>CPI</th>\n",
       "      <th>Unemployment</th>\n",
       "    </tr>\n",
       "  </thead>\n",
       "  <tbody>\n",
       "    <tr>\n",
       "      <th>5208</th>\n",
       "      <td>37</td>\n",
       "      <td>01-04-2011</td>\n",
       "      <td>534578.78</td>\n",
       "      <td>0</td>\n",
       "      <td>67.31</td>\n",
       "      <td>3.524</td>\n",
       "      <td>213.577670</td>\n",
       "      <td>8.300</td>\n",
       "    </tr>\n",
       "    <tr>\n",
       "      <th>1204</th>\n",
       "      <td>9</td>\n",
       "      <td>01-04-2011</td>\n",
       "      <td>520962.14</td>\n",
       "      <td>0</td>\n",
       "      <td>56.12</td>\n",
       "      <td>3.524</td>\n",
       "      <td>218.445164</td>\n",
       "      <td>6.380</td>\n",
       "    </tr>\n",
       "    <tr>\n",
       "      <th>1776</th>\n",
       "      <td>13</td>\n",
       "      <td>01-04-2011</td>\n",
       "      <td>1864238.64</td>\n",
       "      <td>0</td>\n",
       "      <td>42.49</td>\n",
       "      <td>3.487</td>\n",
       "      <td>128.719935</td>\n",
       "      <td>7.193</td>\n",
       "    </tr>\n",
       "    <tr>\n",
       "      <th>2634</th>\n",
       "      <td>19</td>\n",
       "      <td>01-04-2011</td>\n",
       "      <td>1305950.22</td>\n",
       "      <td>0</td>\n",
       "      <td>30.68</td>\n",
       "      <td>3.811</td>\n",
       "      <td>134.068258</td>\n",
       "      <td>7.658</td>\n",
       "    </tr>\n",
       "    <tr>\n",
       "      <th>6066</th>\n",
       "      <td>43</td>\n",
       "      <td>01-04-2011</td>\n",
       "      <td>611585.54</td>\n",
       "      <td>0</td>\n",
       "      <td>67.79</td>\n",
       "      <td>3.524</td>\n",
       "      <td>206.673311</td>\n",
       "      <td>10.581</td>\n",
       "    </tr>\n",
       "  </tbody>\n",
       "</table>\n",
       "</div>"
      ],
      "text/plain": [
       "      Store        Date  Weekly_Sales  Holiday_Flag  Temperature  Fuel_Price  \\\n",
       "5208     37  01-04-2011     534578.78             0        67.31       3.524   \n",
       "1204      9  01-04-2011     520962.14             0        56.12       3.524   \n",
       "1776     13  01-04-2011    1864238.64             0        42.49       3.487   \n",
       "2634     19  01-04-2011    1305950.22             0        30.68       3.811   \n",
       "6066     43  01-04-2011     611585.54             0        67.79       3.524   \n",
       "\n",
       "             CPI  Unemployment  \n",
       "5208  213.577670         8.300  \n",
       "1204  218.445164         6.380  \n",
       "1776  128.719935         7.193  \n",
       "2634  134.068258         7.658  \n",
       "6066  206.673311        10.581  "
      ]
     },
     "execution_count": 53,
     "metadata": {},
     "output_type": "execute_result"
    }
   ],
   "source": [
    "#Exploración de Variables\n",
    "datos.head(5)"
   ]
  },
  {
   "cell_type": "code",
   "execution_count": 54,
   "id": "8e92e8ed",
   "metadata": {},
   "outputs": [
    {
     "data": {
      "text/html": [
       "<div>\n",
       "<style scoped>\n",
       "    .dataframe tbody tr th:only-of-type {\n",
       "        vertical-align: middle;\n",
       "    }\n",
       "\n",
       "    .dataframe tbody tr th {\n",
       "        vertical-align: top;\n",
       "    }\n",
       "\n",
       "    .dataframe thead th {\n",
       "        text-align: right;\n",
       "    }\n",
       "</style>\n",
       "<table border=\"1\" class=\"dataframe\">\n",
       "  <thead>\n",
       "    <tr style=\"text-align: right;\">\n",
       "      <th></th>\n",
       "      <th>Store</th>\n",
       "      <th>Date</th>\n",
       "      <th>Weekly_Sales</th>\n",
       "      <th>Temperature</th>\n",
       "      <th>Fuel_Price</th>\n",
       "      <th>CPI</th>\n",
       "      <th>Unemployment</th>\n",
       "    </tr>\n",
       "  </thead>\n",
       "  <tbody>\n",
       "    <tr>\n",
       "      <th>5208</th>\n",
       "      <td>37</td>\n",
       "      <td>01-04-2011</td>\n",
       "      <td>534578.78</td>\n",
       "      <td>67.31</td>\n",
       "      <td>3.524</td>\n",
       "      <td>213.577670</td>\n",
       "      <td>8.300</td>\n",
       "    </tr>\n",
       "    <tr>\n",
       "      <th>1204</th>\n",
       "      <td>9</td>\n",
       "      <td>01-04-2011</td>\n",
       "      <td>520962.14</td>\n",
       "      <td>56.12</td>\n",
       "      <td>3.524</td>\n",
       "      <td>218.445164</td>\n",
       "      <td>6.380</td>\n",
       "    </tr>\n",
       "    <tr>\n",
       "      <th>1776</th>\n",
       "      <td>13</td>\n",
       "      <td>01-04-2011</td>\n",
       "      <td>1864238.64</td>\n",
       "      <td>42.49</td>\n",
       "      <td>3.487</td>\n",
       "      <td>128.719935</td>\n",
       "      <td>7.193</td>\n",
       "    </tr>\n",
       "    <tr>\n",
       "      <th>2634</th>\n",
       "      <td>19</td>\n",
       "      <td>01-04-2011</td>\n",
       "      <td>1305950.22</td>\n",
       "      <td>30.68</td>\n",
       "      <td>3.811</td>\n",
       "      <td>134.068258</td>\n",
       "      <td>7.658</td>\n",
       "    </tr>\n",
       "    <tr>\n",
       "      <th>6066</th>\n",
       "      <td>43</td>\n",
       "      <td>01-04-2011</td>\n",
       "      <td>611585.54</td>\n",
       "      <td>67.79</td>\n",
       "      <td>3.524</td>\n",
       "      <td>206.673311</td>\n",
       "      <td>10.581</td>\n",
       "    </tr>\n",
       "    <tr>\n",
       "      <th>...</th>\n",
       "      <td>...</td>\n",
       "      <td>...</td>\n",
       "      <td>...</td>\n",
       "      <td>...</td>\n",
       "      <td>...</td>\n",
       "      <td>...</td>\n",
       "      <td>...</td>\n",
       "    </tr>\n",
       "    <tr>\n",
       "      <th>1620</th>\n",
       "      <td>12</td>\n",
       "      <td>31-12-2010</td>\n",
       "      <td>891736.91</td>\n",
       "      <td>45.64</td>\n",
       "      <td>3.148</td>\n",
       "      <td>127.087677</td>\n",
       "      <td>14.313</td>\n",
       "    </tr>\n",
       "    <tr>\n",
       "      <th>5767</th>\n",
       "      <td>41</td>\n",
       "      <td>31-12-2010</td>\n",
       "      <td>1001790.16</td>\n",
       "      <td>25.19</td>\n",
       "      <td>2.829</td>\n",
       "      <td>191.255700</td>\n",
       "      <td>7.508</td>\n",
       "    </tr>\n",
       "    <tr>\n",
       "      <th>5624</th>\n",
       "      <td>40</td>\n",
       "      <td>31-12-2010</td>\n",
       "      <td>811318.30</td>\n",
       "      <td>19.29</td>\n",
       "      <td>3.177</td>\n",
       "      <td>132.815032</td>\n",
       "      <td>5.287</td>\n",
       "    </tr>\n",
       "    <tr>\n",
       "      <th>2907</th>\n",
       "      <td>21</td>\n",
       "      <td>31-12-2010</td>\n",
       "      <td>672903.23</td>\n",
       "      <td>47.19</td>\n",
       "      <td>2.943</td>\n",
       "      <td>211.064774</td>\n",
       "      <td>8.163</td>\n",
       "    </tr>\n",
       "    <tr>\n",
       "      <th>1763</th>\n",
       "      <td>13</td>\n",
       "      <td>31-12-2010</td>\n",
       "      <td>1675292.00</td>\n",
       "      <td>26.79</td>\n",
       "      <td>2.868</td>\n",
       "      <td>127.087677</td>\n",
       "      <td>7.795</td>\n",
       "    </tr>\n",
       "  </tbody>\n",
       "</table>\n",
       "<p>6434 rows × 7 columns</p>\n",
       "</div>"
      ],
      "text/plain": [
       "      Store        Date  Weekly_Sales  Temperature  Fuel_Price         CPI  \\\n",
       "5208     37  01-04-2011     534578.78        67.31       3.524  213.577670   \n",
       "1204      9  01-04-2011     520962.14        56.12       3.524  218.445164   \n",
       "1776     13  01-04-2011    1864238.64        42.49       3.487  128.719935   \n",
       "2634     19  01-04-2011    1305950.22        30.68       3.811  134.068258   \n",
       "6066     43  01-04-2011     611585.54        67.79       3.524  206.673311   \n",
       "...     ...         ...           ...          ...         ...         ...   \n",
       "1620     12  31-12-2010     891736.91        45.64       3.148  127.087677   \n",
       "5767     41  31-12-2010    1001790.16        25.19       2.829  191.255700   \n",
       "5624     40  31-12-2010     811318.30        19.29       3.177  132.815032   \n",
       "2907     21  31-12-2010     672903.23        47.19       2.943  211.064774   \n",
       "1763     13  31-12-2010    1675292.00        26.79       2.868  127.087677   \n",
       "\n",
       "      Unemployment  \n",
       "5208         8.300  \n",
       "1204         6.380  \n",
       "1776         7.193  \n",
       "2634         7.658  \n",
       "6066        10.581  \n",
       "...            ...  \n",
       "1620        14.313  \n",
       "5767         7.508  \n",
       "5624         5.287  \n",
       "2907         8.163  \n",
       "1763         7.795  \n",
       "\n",
       "[6434 rows x 7 columns]"
      ]
     },
     "execution_count": 54,
     "metadata": {},
     "output_type": "execute_result"
    }
   ],
   "source": [
    "datos=datos.drop([\"Holiday_Flag\"],axis=1)\n",
    "datos.drop(10)"
   ]
  },
  {
   "cell_type": "code",
   "execution_count": 56,
   "id": "f78e266a",
   "metadata": {},
   "outputs": [],
   "source": [
    "#splitting data in input and output\n",
    "X=datos.drop(['Weekly_Sales','Store','Date'],axis=1)\n",
    "y=datos['Weekly_Sales']\n",
    "X_train,X_test,y_train,y_test=train_test_split(X,y,test_size=0.3)"
   ]
  },
  {
   "cell_type": "code",
   "execution_count": 57,
   "id": "b10e1202",
   "metadata": {},
   "outputs": [
    {
     "data": {
      "text/plain": [
       "LinearRegression(normalize=True)"
      ]
     },
     "execution_count": 57,
     "metadata": {},
     "output_type": "execute_result"
    }
   ],
   "source": [
    "LR=LinearRegression(normalize=True)\n",
    "LR.fit(X_train,y_train)"
   ]
  },
  {
   "cell_type": "code",
   "execution_count": 58,
   "id": "d80592b8",
   "metadata": {},
   "outputs": [
    {
     "data": {
      "image/png": "[encoded data removed]",
      "text/plain": [
       "<Figure size 432x288 with 1 Axes>"
      ]
     },
     "metadata": {
      "needs_background": "light"
     },
     "output_type": "display_data"
    }
   ],
   "source": [
    "y_pred=LR.predict(X_test)\n",
    "plt.plot(y_test,y_pred,'ro')\n",
    "plt.plot(y_test,y_test,'b-')\n",
    "plt.show()"
   ]
  },
  {
   "cell_type": "code",
   "execution_count": 59,
   "id": "1da1522b",
   "metadata": {},
   "outputs": [
    {
     "name": "stdout",
     "output_type": "stream",
     "text": [
      "569802.7021517218\n"
     ]
    }
   ],
   "source": [
    "Root_mean_square_error=np.sqrt(np.mean(np.square(y_test-y_pred)))\n",
    "print(Root_mean_square_error)"
   ]
  },
  {
   "cell_type": "code",
   "execution_count": 60,
   "id": "3b6a4781",
   "metadata": {},
   "outputs": [
    {
     "name": "stdout",
     "output_type": "stream",
     "text": [
      "0.024732372274047232\n"
     ]
    }
   ],
   "source": [
    "from sklearn.metrics import r2_score\n",
    "r2=r2_score(y_test,y_pred)\n",
    "print(r2)"
   ]
  },
  {
   "cell_type": "code",
   "execution_count": 65,
   "id": "56584dbf",
   "metadata": {},
   "outputs": [
    {
     "name": "stdout",
     "output_type": "stream",
     "text": [
      "[1067857.15118184]\n"
     ]
    }
   ],
   "source": [
    "prediction=LR.predict(pd.DataFrame([(40,2.876,173.325456,7.934)]))\n",
    "print(prediction)"
   ]
  },
  {
   "cell_type": "code",
   "execution_count": null,
   "id": "c13d8e8b",
   "metadata": {},
   "outputs": [],
   "source": []
  }
 ],
 "metadata": {
  "kernelspec": {
   "display_name": "Python 3 (ipykernel)",
   "language": "python",
   "name": "python3"
  },
  "language_info": {
   "codemirror_mode": {
    "name": "ipython",
    "version": 3
   },
   "file_extension": ".py",
   "mimetype": "text/x-python",
   "name": "python",
   "nbconvert_exporter": "python",
   "pygments_lexer": "ipython3",
   "version": "3.9.7"
  }
 },
 "nbformat": 4,
 "nbformat_minor": 5
}
