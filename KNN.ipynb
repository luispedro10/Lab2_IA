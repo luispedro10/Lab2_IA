{
 "cells": [
  {
   "cell_type": "markdown",
   "id": "820bdaa7",
   "metadata": {},
   "source": [
    "## Task Dos\n",
    "### KNN clasificación\n",
    "\n",
    "Primero queremos improtar nuesto dataset para clasificacion y conocer como se comporta primero que nada. "
   ]
  },
  {
   "cell_type": "code",
   "execution_count": 1,
   "id": "700f1a42",
   "metadata": {},
   "outputs": [
    {
     "data": {
      "text/html": [
       "<div>\n",
       "<style scoped>\n",
       "    .dataframe tbody tr th:only-of-type {\n",
       "        vertical-align: middle;\n",
       "    }\n",
       "\n",
       "    .dataframe tbody tr th {\n",
       "        vertical-align: top;\n",
       "    }\n",
       "\n",
       "    .dataframe thead th {\n",
       "        text-align: right;\n",
       "    }\n",
       "</style>\n",
       "<table border=\"1\" class=\"dataframe\">\n",
       "  <thead>\n",
       "    <tr style=\"text-align: right;\">\n",
       "      <th></th>\n",
       "      <th>name</th>\n",
       "      <th>diameter</th>\n",
       "      <th>weight</th>\n",
       "      <th>red</th>\n",
       "      <th>green</th>\n",
       "      <th>blue</th>\n",
       "    </tr>\n",
       "  </thead>\n",
       "  <tbody>\n",
       "    <tr>\n",
       "      <th>0</th>\n",
       "      <td>orange</td>\n",
       "      <td>2.96</td>\n",
       "      <td>86.76</td>\n",
       "      <td>172</td>\n",
       "      <td>85</td>\n",
       "      <td>2</td>\n",
       "    </tr>\n",
       "    <tr>\n",
       "      <th>1</th>\n",
       "      <td>orange</td>\n",
       "      <td>3.91</td>\n",
       "      <td>88.05</td>\n",
       "      <td>166</td>\n",
       "      <td>78</td>\n",
       "      <td>3</td>\n",
       "    </tr>\n",
       "    <tr>\n",
       "      <th>2</th>\n",
       "      <td>orange</td>\n",
       "      <td>4.42</td>\n",
       "      <td>95.17</td>\n",
       "      <td>156</td>\n",
       "      <td>81</td>\n",
       "      <td>2</td>\n",
       "    </tr>\n",
       "    <tr>\n",
       "      <th>3</th>\n",
       "      <td>orange</td>\n",
       "      <td>4.47</td>\n",
       "      <td>95.60</td>\n",
       "      <td>163</td>\n",
       "      <td>81</td>\n",
       "      <td>4</td>\n",
       "    </tr>\n",
       "    <tr>\n",
       "      <th>4</th>\n",
       "      <td>orange</td>\n",
       "      <td>4.48</td>\n",
       "      <td>95.76</td>\n",
       "      <td>161</td>\n",
       "      <td>72</td>\n",
       "      <td>9</td>\n",
       "    </tr>\n",
       "  </tbody>\n",
       "</table>\n",
       "</div>"
      ],
      "text/plain": [
       "     name  diameter  weight  red  green  blue\n",
       "0  orange      2.96   86.76  172     85     2\n",
       "1  orange      3.91   88.05  166     78     3\n",
       "2  orange      4.42   95.17  156     81     2\n",
       "3  orange      4.47   95.60  163     81     4\n",
       "4  orange      4.48   95.76  161     72     9"
      ]
     },
     "execution_count": 1,
     "metadata": {},
     "output_type": "execute_result"
    }
   ],
   "source": [
    "import numpy as np\n",
    "import math\n",
    "import pandas as pd\n",
    "import scipy.spatial\n",
    "from collections import Counter\n",
    "import seaborn as sns\n",
    "from sklearn.model_selection import train_test_split\n",
    "\n",
    "#from sklearn.model_selection import train_test_split\n",
    "#from sklearn.preprocessing import StandardScaler\n",
    "from sklearn.neighbors import KNeighborsClassifier\n",
    "#from sklearn.metrics import classification_report, confusion_matrix\n",
    "import matplotlib.pyplot as plt\n",
    "\n",
    "#leer el csv de dataset en un dataframe\n",
    "dfknn= pd.read_csv(\"./Oranges vs Grapefruit.csv\")\n",
    "dfknn.head()\n"
   ]
  },
  {
   "cell_type": "markdown",
   "id": "ee445b8f",
   "metadata": {},
   "source": [
    "Del codigo que vemos en la seccion de arriba, tenemos que el dataset tiene unas variables que describen a la variable name. Lo que nos indica que name sera la variable que querremos predecir. "
   ]
  },
  {
   "cell_type": "code",
   "execution_count": 2,
   "id": "571145ba",
   "metadata": {},
   "outputs": [],
   "source": [
    "dfknn.loc[dfknn['name'] == 'orange', 'num'] = 0 \n",
    "dfknn.loc[dfknn['name'] == 'grapefruit', 'num'] = 1 "
   ]
  },
  {
   "cell_type": "markdown",
   "id": "c8827585",
   "metadata": {},
   "source": [
    "Creamos una varibale factorial para poder representar la variable de \"name\" con números y en dado caso necesitemos usar otros modelos como regresiones o baye singenuo, podamos usar esta variable para predecir la variable name. "
   ]
  },
  {
   "cell_type": "code",
   "execution_count": 3,
   "id": "f85e0abc",
   "metadata": {},
   "outputs": [
    {
     "data": {
      "text/html": [
       "<div>\n",
       "<style scoped>\n",
       "    .dataframe tbody tr th:only-of-type {\n",
       "        vertical-align: middle;\n",
       "    }\n",
       "\n",
       "    .dataframe tbody tr th {\n",
       "        vertical-align: top;\n",
       "    }\n",
       "\n",
       "    .dataframe thead th {\n",
       "        text-align: right;\n",
       "    }\n",
       "</style>\n",
       "<table border=\"1\" class=\"dataframe\">\n",
       "  <thead>\n",
       "    <tr style=\"text-align: right;\">\n",
       "      <th></th>\n",
       "      <th>name</th>\n",
       "      <th>diameter</th>\n",
       "      <th>weight</th>\n",
       "      <th>red</th>\n",
       "      <th>green</th>\n",
       "      <th>blue</th>\n",
       "      <th>num</th>\n",
       "    </tr>\n",
       "  </thead>\n",
       "  <tbody>\n",
       "    <tr>\n",
       "      <th>0</th>\n",
       "      <td>orange</td>\n",
       "      <td>2.96</td>\n",
       "      <td>86.76</td>\n",
       "      <td>172</td>\n",
       "      <td>85</td>\n",
       "      <td>2</td>\n",
       "      <td>0.0</td>\n",
       "    </tr>\n",
       "    <tr>\n",
       "      <th>1</th>\n",
       "      <td>orange</td>\n",
       "      <td>3.91</td>\n",
       "      <td>88.05</td>\n",
       "      <td>166</td>\n",
       "      <td>78</td>\n",
       "      <td>3</td>\n",
       "      <td>0.0</td>\n",
       "    </tr>\n",
       "    <tr>\n",
       "      <th>2</th>\n",
       "      <td>orange</td>\n",
       "      <td>4.42</td>\n",
       "      <td>95.17</td>\n",
       "      <td>156</td>\n",
       "      <td>81</td>\n",
       "      <td>2</td>\n",
       "      <td>0.0</td>\n",
       "    </tr>\n",
       "    <tr>\n",
       "      <th>3</th>\n",
       "      <td>orange</td>\n",
       "      <td>4.47</td>\n",
       "      <td>95.60</td>\n",
       "      <td>163</td>\n",
       "      <td>81</td>\n",
       "      <td>4</td>\n",
       "      <td>0.0</td>\n",
       "    </tr>\n",
       "    <tr>\n",
       "      <th>4</th>\n",
       "      <td>orange</td>\n",
       "      <td>4.48</td>\n",
       "      <td>95.76</td>\n",
       "      <td>161</td>\n",
       "      <td>72</td>\n",
       "      <td>9</td>\n",
       "      <td>0.0</td>\n",
       "    </tr>\n",
       "  </tbody>\n",
       "</table>\n",
       "</div>"
      ],
      "text/plain": [
       "     name  diameter  weight  red  green  blue  num\n",
       "0  orange      2.96   86.76  172     85     2  0.0\n",
       "1  orange      3.91   88.05  166     78     3  0.0\n",
       "2  orange      4.42   95.17  156     81     2  0.0\n",
       "3  orange      4.47   95.60  163     81     4  0.0\n",
       "4  orange      4.48   95.76  161     72     9  0.0"
      ]
     },
     "execution_count": 3,
     "metadata": {},
     "output_type": "execute_result"
    }
   ],
   "source": [
    "dfknn.head()"
   ]
  },
  {
   "cell_type": "code",
   "execution_count": 4,
   "id": "9d10666b",
   "metadata": {},
   "outputs": [
    {
     "data": {
      "text/html": [
       "<div>\n",
       "<style scoped>\n",
       "    .dataframe tbody tr th:only-of-type {\n",
       "        vertical-align: middle;\n",
       "    }\n",
       "\n",
       "    .dataframe tbody tr th {\n",
       "        vertical-align: top;\n",
       "    }\n",
       "\n",
       "    .dataframe thead th {\n",
       "        text-align: right;\n",
       "    }\n",
       "</style>\n",
       "<table border=\"1\" class=\"dataframe\">\n",
       "  <thead>\n",
       "    <tr style=\"text-align: right;\">\n",
       "      <th>col_0</th>\n",
       "      <th>count</th>\n",
       "    </tr>\n",
       "    <tr>\n",
       "      <th>name</th>\n",
       "      <th></th>\n",
       "    </tr>\n",
       "  </thead>\n",
       "  <tbody>\n",
       "    <tr>\n",
       "      <th>grapefruit</th>\n",
       "      <td>5000</td>\n",
       "    </tr>\n",
       "    <tr>\n",
       "      <th>orange</th>\n",
       "      <td>5000</td>\n",
       "    </tr>\n",
       "  </tbody>\n",
       "</table>\n",
       "</div>"
      ],
      "text/plain": [
       "col_0       count\n",
       "name             \n",
       "grapefruit   5000\n",
       "orange       5000"
      ]
     },
     "execution_count": 4,
     "metadata": {},
     "output_type": "execute_result"
    }
   ],
   "source": [
    "pd.crosstab(index=dfknn['name'], columns='count')\n"
   ]
  },
  {
   "cell_type": "markdown",
   "id": "3100ec31",
   "metadata": {},
   "source": [
    "De lo que podemos observar de aquí es que el 50% de los datos son naranjas y el otro 50 son las toronjas. Se facotriza la variable para poder hacer el modelo de K nearest neighbor de mejor manera y que haga con los numeros la predicción. "
   ]
  },
  {
   "cell_type": "code",
   "execution_count": 5,
   "id": "451bf2e7",
   "metadata": {},
   "outputs": [],
   "source": [
    "X = dfknn.iloc[:, 1:-1].values\n",
    "y = dfknn.iloc[:, 6].values\n"
   ]
  },
  {
   "cell_type": "markdown",
   "id": "7fd3ad8e",
   "metadata": {},
   "source": [
    "Lo que hacemos ahora es que dividimos nuestro dataset en las variables independientes y las variable spredictoras. X siendo la variable que contiene un array con todas las variables que describen con que fruta nos estamos tratando y y siendo el numero que representa cada fruta. "
   ]
  },
  {
   "cell_type": "code",
   "execution_count": 6,
   "id": "7e9b4016",
   "metadata": {},
   "outputs": [],
   "source": [
    "X_train, X_test, y_train, y_test = train_test_split(X, y, test_size=0.30)"
   ]
  },
  {
   "cell_type": "markdown",
   "id": "de891a4c",
   "metadata": {},
   "source": [
    "Luego, para evitar el problema de ober fitting, hacemos una división de dataset dentro de train, test. Siendo la proporcion que el 30% de los datos se usaran para el test y como sabemos que los datos estan distribuidos 50-50 no hay una division especifica necesaria más que la división de datos que nos da la libreria de sklearn. \n",
    "\n",
    "Lo que nos da un total de 2000 datos para el conjunto de prueba y 3000 datos para entrenar nuestro algoritmo.\n",
    "\n",
    "La tasa de error obtenida nospuede servir para encontrar una variable K más óptima para nuestro caso y no solo seguir los casos más comúnes para seleccionar esta variable. Primero lo que debemos de haacer es caluclar la media de eror obtenida de probar el algoritmo con un valos de K de 1 a 40."
   ]
  },
  {
   "cell_type": "code",
   "execution_count": 7,
   "id": "f0db564c",
   "metadata": {},
   "outputs": [],
   "source": [
    "error = []\n",
    "\n",
    "# Calculating error for K values between 1 and 40\n",
    "for i in range(1, 40):\n",
    "    knn = KNeighborsClassifier(n_neighbors=i)\n",
    "    knn.fit(X_train, y_train)\n",
    "    pred_i = knn.predict(X_test)\n",
    "    error.append(np.mean(pred_i != y_test))"
   ]
  },
  {
   "cell_type": "markdown",
   "id": "291cd051",
   "metadata": {},
   "source": [
    "Una vez obtenida la media de error se puede hacer una tabla de \"match\" entre los valores de K y la media de error obtenida para encontrar el mejor valor de K para tener el mejor accuracy que se pueda sin problemas de overfitting."
   ]
  },
  {
   "cell_type": "code",
   "execution_count": 8,
   "id": "f87eeb26",
   "metadata": {},
   "outputs": [
    {
     "data": {
      "text/plain": [
       "Text(0, 0.5, 'Mean Error')"
      ]
     },
     "execution_count": 8,
     "metadata": {},
     "output_type": "execute_result"
    },
    {
     "data": {
      "image/png": "[encoded data removed]",
      "text/plain": [
       "<Figure size 864x432 with 1 Axes>"
      ]
     },
     "metadata": {
      "needs_background": "light"
     },
     "output_type": "display_data"
    }
   ],
   "source": [
    "\n",
    "plt.figure(figsize=(12, 6))\n",
    "plt.plot(range(1, 40), error, color='red', linestyle='dashed', marker='o',\n",
    "         markerfacecolor='blue', markersize=10)\n",
    "plt.title('Error Rate K Value')\n",
    "plt.xlabel('K Value')\n",
    "plt.ylabel('Mean Error')"
   ]
  },
  {
   "cell_type": "markdown",
   "id": "b3e40340",
   "metadata": {},
   "source": [
    "Para crear el modelo lo primero que vamos a hacer es crear un objeto para la clase de KNN, en donde podamos encontrar las funciones de:\n",
    "<ul>\n",
    "    <li> fit: para el ingreso de los datos de entrenamiento y se usa la libreria de scipy para calcular la distancia euclidiana entre dos puntos. </li>\n",
    "    <li> predict: el cual hace un loop por cada dato encontrado en el conjunto de prueba, cada vez en cada loop calculando ladistancia entre la instancia del dato de prueba y con cada instancia de los datos de entrenamiento. Guarda la distancia e index del dato de entrenamiento en una lista. Luego hace un sort en la lista para solamente tener hasta enfrente las distancias mas cortas. Para poder asi obtener los indices para encontrar eso datos K mas cercanos </li>\n",
    "    <li> score: finalmente tenemos la funcion de score lo cual, al darle las predicciones y el conjunto de prueba con los target, calcula el accuracy score.</li>"
   ]
  },
  {
   "cell_type": "code",
   "execution_count": 9,
   "id": "0b88f2b9",
   "metadata": {},
   "outputs": [],
   "source": [
    "class KNN:\n",
    "    def __init__(self, k):\n",
    "        self.k = k\n",
    "        \n",
    "    def fit(self, X, y):\n",
    "        self.X_train = X\n",
    "        self.y_train = y\n",
    "        \n",
    "    def distance(self, X1, X2):\n",
    "        distance = scipy.spatial.distance.euclidean(X1, X2)\n",
    "    \n",
    "    def predict(self, X_test):\n",
    "        final_output = []\n",
    "        for i in range(len(X_test)):\n",
    "            d = []\n",
    "            votes = []\n",
    "            for j in range(len(X_train)):\n",
    "                dist = scipy.spatial.distance.euclidean(X_train[j] , X_test[i])\n",
    "                d.append([dist, j])\n",
    "            d.sort()\n",
    "            d = d[0:self.k]\n",
    "            for d, j in d:\n",
    "                votes.append(y_train[j])\n",
    "            ans = Counter(votes).most_common(1)[0][0]\n",
    "            final_output.append(ans)\n",
    "            \n",
    "        return final_output\n",
    "    \n",
    "    def score(self, X_test, y_test):\n",
    "        predictions = self.predict(X_test)\n",
    "        return (predictions == y_test).sum() / len(y_test)"
   ]
  },
  {
   "cell_type": "code",
   "execution_count": 10,
   "id": "d8be7d28",
   "metadata": {},
   "outputs": [
    {
     "data": {
      "text/plain": [
       "0.9223333333333333"
      ]
     },
     "execution_count": 10,
     "metadata": {},
     "output_type": "execute_result"
    }
   ],
   "source": [
    "clf = KNN(15)\n",
    "clf.fit(X_train, y_train)\n",
    "prediction = clf.predict(X_test)\n",
    "clf.score(X_test, y_test)\n"
   ]
  },
  {
   "cell_type": "markdown",
   "id": "d883dfb3",
   "metadata": {},
   "source": [
    "Aqui podemos ver que el algoritmo tiene un accuracy del 92% el cual es razonable y no es tan alto para generar sospecha de overfitting. \n",
    "\n",
    "Por lo que el modelo es aceptado y puede ser utilizado para predecir si nuevos datos son naranjas o toronjas. "
   ]
  }
 ],
 "metadata": {
  "kernelspec": {
   "display_name": "Python 3",
   "language": "python",
   "name": "python3"
  },
  "language_info": {
   "codemirror_mode": {
    "name": "ipython",
    "version": 3
   },
   "file_extension": ".py",
   "mimetype": "text/x-python",
   "name": "python",
   "nbconvert_exporter": "python",
   "pygments_lexer": "ipython3",
   "version": "3.6.9"
  }
 },
 "nbformat": 4,
 "nbformat_minor": 5
}
